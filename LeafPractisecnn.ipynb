{
 "cells": [
  {
   "cell_type": "code",
   "execution_count": 1,
   "id": "43ef85ac-940a-4d00-a26d-fb736404d908",
   "metadata": {},
   "outputs": [],
   "source": [
    "# Import required modules/methods\n",
    "import os\n",
    "\n",
    "import numpy as np\n",
    "import pandas as pd\n",
    "from sklearn.model_selection import train_test_split\n",
    "from matplotlib import pyplot as plt\n",
    "import seaborn as sns\n",
    "from pathlib import Path\n",
    "\n",
    "from keras.preprocessing.image import ImageDataGenerator\n",
    "import tensorflow as tf\n",
    "\n",
    "from keras.models import Sequential\n",
    "from keras.layers import Conv2D, MaxPool2D, Flatten, Dense\n",
    "\n",
    "from sklearn.metrics import confusion_matrix, classification_report"
   ]
  },
  {
   "cell_type": "code",
   "execution_count": 2,
   "id": "9b5e7dee-4c3c-4b48-a6ae-ce3859751a5a",
   "metadata": {},
   "outputs": [],
   "source": [
    "train_dir = Path(r'D:\\Train')"
   ]
  },
  {
   "cell_type": "code",
   "execution_count": 3,
   "id": "b5c44e21-ff2e-442e-92d4-666a20f13e9d",
   "metadata": {},
   "outputs": [],
   "source": [
    "train_filepaths = list(train_dir.glob(r'**/*.jpg'))"
   ]
  },
  {
   "cell_type": "code",
   "execution_count": 4,
   "id": "1261c520-6136-4243-bea2-3fd6102983b0",
   "metadata": {},
   "outputs": [
    {
     "data": {
      "text/plain": [
       "1835"
      ]
     },
     "execution_count": 4,
     "metadata": {},
     "output_type": "execute_result"
    }
   ],
   "source": [
    "len(train_filepaths)"
   ]
  },
  {
   "cell_type": "code",
   "execution_count": 5,
   "id": "2ce424c3-c9f6-4071-a035-5fe68ce5fb47",
   "metadata": {},
   "outputs": [
    {
     "data": {
      "text/plain": [
       "[WindowsPath('D:/Train/Alpinia Galanga (Rasna)/AG-S-002.jpg'),\n",
       " WindowsPath('D:/Train/Alpinia Galanga (Rasna)/AG-S-003.jpg'),\n",
       " WindowsPath('D:/Train/Alpinia Galanga (Rasna)/AG-S-004.jpg'),\n",
       " WindowsPath('D:/Train/Alpinia Galanga (Rasna)/AG-S-005.jpg')]"
      ]
     },
     "execution_count": 5,
     "metadata": {},
     "output_type": "execute_result"
    }
   ],
   "source": [
    "train_filepaths[1:5]"
   ]
  },
  {
   "cell_type": "code",
   "execution_count": 6,
   "id": "69f23685-901d-455f-9016-52f0bed7aee4",
   "metadata": {},
   "outputs": [],
   "source": [
    "filepath = pd.Series(train_filepaths,name='Filepath').astype(str)"
   ]
  },
  {
   "cell_type": "code",
   "execution_count": 7,
   "id": "c65061d2-17bf-4065-a507-0defecdd91d6",
   "metadata": {},
   "outputs": [
    {
     "data": {
      "text/plain": [
       "'D:\\\\Train\\\\Alpinia Galanga (Rasna)\\\\AG-S-002.jpg'"
      ]
     },
     "execution_count": 7,
     "metadata": {},
     "output_type": "execute_result"
    }
   ],
   "source": [
    "filepath[1]"
   ]
  },
  {
   "cell_type": "code",
   "execution_count": 8,
   "id": "4e8d00cf-6326-4cf4-bdc0-24e0b7bdb2d1",
   "metadata": {},
   "outputs": [
    {
     "data": {
      "text/plain": [
       "['D:', 'Train', 'Alpinia Galanga (Rasna)', 'AG-S-002.jpg']"
      ]
     },
     "execution_count": 8,
     "metadata": {},
     "output_type": "execute_result"
    }
   ],
   "source": [
    "str(train_filepaths[1]).split('\\\\')"
   ]
  },
  {
   "cell_type": "code",
   "execution_count": 9,
   "id": "de6721b8-6664-4a7c-bad1-58a757f5bdbc",
   "metadata": {},
   "outputs": [
    {
     "data": {
      "text/plain": [
       "'Alpinia Galanga (Rasna)'"
      ]
     },
     "execution_count": 9,
     "metadata": {},
     "output_type": "execute_result"
    }
   ],
   "source": [
    "str(train_filepaths[1]).split('\\\\')[-2]"
   ]
  },
  {
   "cell_type": "code",
   "execution_count": 10,
   "id": "1a322a51-fad5-4315-88ab-67e240094b00",
   "metadata": {},
   "outputs": [
    {
     "data": {
      "text/plain": [
       "1835"
      ]
     },
     "execution_count": 10,
     "metadata": {},
     "output_type": "execute_result"
    }
   ],
   "source": [
    "len(filepath)"
   ]
  },
  {
   "cell_type": "code",
   "execution_count": 11,
   "id": "8a2e5018-faeb-498c-aebb-3798b929edb7",
   "metadata": {},
   "outputs": [],
   "source": [
    "labels = []\n",
    "for i in range(len(filepath)):\n",
    "    \n",
    "    #list.append(i)\n",
    "\n",
    "    label =str(train_filepaths[i]).split('\\\\')[-2]\n",
    "    labels.append(label)\n",
    "    \n",
    "    \n",
    "    #labels = pd.Series(labels, name='Labels')"
   ]
  },
  {
   "cell_type": "code",
   "execution_count": 12,
   "id": "ed7055ac-713d-4a3d-bdbf-a5678f76107f",
   "metadata": {},
   "outputs": [
    {
     "data": {
      "text/plain": [
       "['Alpinia Galanga (Rasna)',\n",
       " 'Alpinia Galanga (Rasna)',\n",
       " 'Alpinia Galanga (Rasna)',\n",
       " 'Alpinia Galanga (Rasna)']"
      ]
     },
     "execution_count": 12,
     "metadata": {},
     "output_type": "execute_result"
    }
   ],
   "source": [
    "labels[1:5]"
   ]
  },
  {
   "cell_type": "code",
   "execution_count": 13,
   "id": "dbaf2712-da6f-4887-aa9d-3ed3942b1694",
   "metadata": {},
   "outputs": [
    {
     "data": {
      "text/plain": [
       "[WindowsPath('D:/Train/Alpinia Galanga (Rasna)/AG-S-002.jpg'),\n",
       " WindowsPath('D:/Train/Alpinia Galanga (Rasna)/AG-S-003.jpg'),\n",
       " WindowsPath('D:/Train/Alpinia Galanga (Rasna)/AG-S-004.jpg'),\n",
       " WindowsPath('D:/Train/Alpinia Galanga (Rasna)/AG-S-005.jpg')]"
      ]
     },
     "execution_count": 13,
     "metadata": {},
     "output_type": "execute_result"
    }
   ],
   "source": [
    "train_filepaths[1:5]"
   ]
  },
  {
   "cell_type": "code",
   "execution_count": 14,
   "id": "470eeab4-b13f-4778-8903-fd2379515a79",
   "metadata": {},
   "outputs": [],
   "source": [
    "filepath = pd.Series(train_filepaths, name='Filepath').astype(str)\n",
    "labels = pd.Series(labels, name='Label')"
   ]
  },
  {
   "cell_type": "code",
   "execution_count": 15,
   "id": "6477ac47-d7b0-44e8-9199-01ad0b985ef6",
   "metadata": {},
   "outputs": [],
   "source": [
    "df = pd.concat([filepath, labels], axis=1)"
   ]
  },
  {
   "cell_type": "code",
   "execution_count": 16,
   "id": "707d43f7-d813-4102-8cea-542aac375ac9",
   "metadata": {},
   "outputs": [],
   "source": [
    "df = df.sample(frac=1).reset_index(drop = True)"
   ]
  },
  {
   "cell_type": "code",
   "execution_count": 17,
   "id": "36b87a76-e386-4b48-92b2-fd55b4a20836",
   "metadata": {},
   "outputs": [
    {
     "data": {
      "text/html": [
       "<div>\n",
       "<style scoped>\n",
       "    .dataframe tbody tr th:only-of-type {\n",
       "        vertical-align: middle;\n",
       "    }\n",
       "\n",
       "    .dataframe tbody tr th {\n",
       "        vertical-align: top;\n",
       "    }\n",
       "\n",
       "    .dataframe thead th {\n",
       "        text-align: right;\n",
       "    }\n",
       "</style>\n",
       "<table border=\"1\" class=\"dataframe\">\n",
       "  <thead>\n",
       "    <tr style=\"text-align: right;\">\n",
       "      <th></th>\n",
       "      <th>Filepath</th>\n",
       "      <th>Label</th>\n",
       "    </tr>\n",
       "  </thead>\n",
       "  <tbody>\n",
       "    <tr>\n",
       "      <th>0</th>\n",
       "      <td>D:\\Train\\Mentha (Mint)\\M-S-083.jpg</td>\n",
       "      <td>Mentha (Mint)</td>\n",
       "    </tr>\n",
       "    <tr>\n",
       "      <th>1</th>\n",
       "      <td>D:\\Train\\Carissa Carandas (Karanda)\\CC-S-043.jpg</td>\n",
       "      <td>Carissa Carandas (Karanda)</td>\n",
       "    </tr>\n",
       "    <tr>\n",
       "      <th>2</th>\n",
       "      <td>D:\\Train\\Psidium Guajava (Guava)\\PG-S-014.jpg</td>\n",
       "      <td>Psidium Guajava (Guava)</td>\n",
       "    </tr>\n",
       "    <tr>\n",
       "      <th>3</th>\n",
       "      <td>D:\\Train\\Muntingia Calabura (Jamaica Cherry-Ga...</td>\n",
       "      <td>Muntingia Calabura (Jamaica Cherry-Gasagase)</td>\n",
       "    </tr>\n",
       "    <tr>\n",
       "      <th>4</th>\n",
       "      <td>D:\\Train\\Piper Betle (Betel)\\PB-S-020.jpg</td>\n",
       "      <td>Piper Betle (Betel)</td>\n",
       "    </tr>\n",
       "    <tr>\n",
       "      <th>5</th>\n",
       "      <td>D:\\Train\\Piper Betle (Betel)\\PB-S-047.jpg</td>\n",
       "      <td>Piper Betle (Betel)</td>\n",
       "    </tr>\n",
       "  </tbody>\n",
       "</table>\n",
       "</div>"
      ],
      "text/plain": [
       "                                            Filepath  \\\n",
       "0                 D:\\Train\\Mentha (Mint)\\M-S-083.jpg   \n",
       "1   D:\\Train\\Carissa Carandas (Karanda)\\CC-S-043.jpg   \n",
       "2      D:\\Train\\Psidium Guajava (Guava)\\PG-S-014.jpg   \n",
       "3  D:\\Train\\Muntingia Calabura (Jamaica Cherry-Ga...   \n",
       "4          D:\\Train\\Piper Betle (Betel)\\PB-S-020.jpg   \n",
       "5          D:\\Train\\Piper Betle (Betel)\\PB-S-047.jpg   \n",
       "\n",
       "                                          Label  \n",
       "0                                 Mentha (Mint)  \n",
       "1                    Carissa Carandas (Karanda)  \n",
       "2                       Psidium Guajava (Guava)  \n",
       "3  Muntingia Calabura (Jamaica Cherry-Gasagase)  \n",
       "4                           Piper Betle (Betel)  \n",
       "5                           Piper Betle (Betel)  "
      ]
     },
     "execution_count": 17,
     "metadata": {},
     "output_type": "execute_result"
    }
   ],
   "source": [
    "train_df=df\n",
    "train_df.head(6)"
   ]
  },
  {
   "cell_type": "code",
   "execution_count": 18,
   "id": "8073d4ca-0587-414a-bb56-26eb439790b8",
   "metadata": {},
   "outputs": [
    {
     "name": "stdout",
     "output_type": "stream",
     "text": [
      "-- Training set --\n",
      "\n",
      "Number of pictures: 1835\n",
      "\n",
      "Number of different labels: 30\n",
      "\n",
      "Labels: ['Mentha (Mint)', 'Carissa Carandas (Karanda)', 'Psidium Guajava (Guava)', 'Muntingia Calabura (Jamaica Cherry-Gasagase)', 'Piper Betle (Betel)', 'Mangifera Indica (Mango)', 'Alpinia Galanga (Rasna)', 'Punica Granatum (Pomegranate)', 'Hibiscus Rosa-sinensis', 'Murraya Koenigii (Curry)', 'Basella Alba (Basale)', 'Nyctanthes Arbor-tristis (Parijata)', 'Artocarpus Heterophyllus (Jackfruit)', 'Citrus Limon (Lemon)', 'Pongamia Pinnata (Indian Beech)', 'Ficus Religiosa (Peepal Tree)', 'Brassica Juncea (Indian Mustard)', 'Ficus Auriculata (Roxburgh fig)', 'Plectranthus Amboinicus (Mexican Mint)', 'Syzygium Jambos (Rose Apple)', 'Azadirachta Indica (Neem)', 'Santalum Album (Sandalwood)', 'Jasminum (Jasmine)', 'Nerium Oleander (Oleander)', 'Amaranthus Viridis (Arive-Dantu)', 'Tabernaemontana Divaricata (Crape Jasmine)', 'Moringa Oleifera (Drumstick)', 'Ocimum Tenuiflorum (Tulsi)', 'Trigonella Foenum-graecum (Fenugreek)', 'Syzygium Cumini (Jamun)']\n"
     ]
    }
   ],
   "source": [
    "print('-- Training set --\\n')\n",
    "print(f'Number of pictures: {train_df.shape[0]}\\n')\n",
    "print(f'Number of different labels: {len(train_df.Label.unique())}\\n')\n",
    "print(f'Labels: {train_df.Label.unique().tolist()}')"
   ]
  },
  {
   "cell_type": "code",
   "execution_count": 19,
   "id": "18d0b282-d17a-47ac-82e5-36ce0523fcd6",
   "metadata": {},
   "outputs": [],
   "source": [
    "# Scale the data - [0,1], validation split - creating objects\n",
    "train_DataGenerator = ImageDataGenerator(\n",
    "    rescale=1/255,\n",
    ")\n",
    "\n",
    "test_DataGenerator = ImageDataGenerator(\n",
    "    rescale=1/255,\n",
    ")"
   ]
  },
  {
   "cell_type": "code",
   "execution_count": 20,
   "id": "3f0cf780-3bf5-4dfa-af17-8c166081707a",
   "metadata": {},
   "outputs": [],
   "source": [
    "# Split train and test datasets\n",
    "train_df, test_df = train_test_split(df, \n",
    "                                     test_size=0.3, \n",
    "                                     shuffle=True, \n",
    "                                     random_state=1)"
   ]
  },
  {
   "cell_type": "code",
   "execution_count": 21,
   "id": "98b14526-4996-4c03-bd2d-5625bbf16a71",
   "metadata": {},
   "outputs": [
    {
     "name": "stdout",
     "output_type": "stream",
     "text": [
      "Found 1284 validated image filenames belonging to 30 classes.\n",
      "Found 551 validated image filenames belonging to 30 classes.\n"
     ]
    }
   ],
   "source": [
    "train_images = train_DataGenerator.flow_from_dataframe(\n",
    "    dataframe=train_df,\n",
    "    x_col=\"Filepath\",\n",
    "    y_col=\"Label\",\n",
    "    target_size=(128, 128),\n",
    "    class_mode=\"categorical\",\n",
    "    seed=42,\n",
    "    subset='training'\n",
    ")\n",
    "\n",
    "test_images = test_DataGenerator.flow_from_dataframe(\n",
    "    dataframe=test_df,\n",
    "    x_col=\"Filepath\",\n",
    "    y_col=\"Label\",\n",
    "    target_size=(128, 128),\n",
    "    class_mode=\"categorical\"\n",
    ")"
   ]
  },
  {
   "cell_type": "code",
   "execution_count": 22,
   "id": "aa4df82a-7258-4ba4-b1ba-d161fc6ef6c5",
   "metadata": {},
   "outputs": [
    {
     "data": {
      "text/plain": [
       "((128, 128, 3), (128, 128, 3))"
      ]
     },
     "execution_count": 22,
     "metadata": {},
     "output_type": "execute_result"
    }
   ],
   "source": [
    "test_images.image_shape, train_images.image_shape"
   ]
  },
  {
   "cell_type": "code",
   "execution_count": 23,
   "id": "05eef3a5-305c-42eb-9ddb-c1583b36e124",
   "metadata": {},
   "outputs": [],
   "source": [
    "model = Sequential()\n",
    "\n",
    "# Add first Conv and pool layers\n",
    "model.add(Conv2D(filters = 32, \n",
    "                 kernel_size = (3,3), \n",
    "                 activation = \"relu\", \n",
    "                 input_shape = (128, 128, 3),\n",
    "                 name= \"Input_Layer\"))\n",
    "model.add(MaxPool2D((2,2), name = \"Pooling_1\"))\n",
    "\n",
    "# 2nd Conv and pool layers\n",
    "model.add(Conv2D(filters = 32, \n",
    "                 kernel_size = (3,3), \n",
    "                 activation = \"relu\", \n",
    "                 name= \"Conv_Layer2\"))\n",
    "model.add(MaxPool2D((2,2), name = \"Pooling_2\"))\n",
    "# 3rd Conv and pool layers\n",
    "model.add(Conv2D(filters = 64, \n",
    "                kernel_size = (3,3), \n",
    "                activation = \"relu\", \n",
    "                name= \"Conv_Layer3\"))\n",
    "model.add(MaxPool2D((2,2), name = \"Pooling_3\"))\n",
    "#4th Conv and pool layers\n",
    "model.add(Conv2D(filters = 64, \n",
    "                 kernel_size = (3,3), \n",
    "                 activation = \"relu\", \n",
    "                 name= \"Conv_Layer4\"))\n",
    "model.add(MaxPool2D((2,2), name = \"Pooling_4\"))\n",
    "\n",
    "\n",
    "# Flatten the output of 2nd conv layer\n",
    "model.add(Flatten())\n",
    "\n",
    "# Add FC layers\n",
    "model.add(Dense(128, activation=\"relu\", name=\"Dense_1\")) # FC1\n",
    "model.add(Dense(64, activation=\"relu\", name=\"Dense_2\")) # FC2\n",
    "model.add(Dense(30, activation=\"softmax\", name=\"Output_Layer\")) # FC3 - Output FC layer"
   ]
  },
  {
   "cell_type": "code",
   "execution_count": 24,
   "id": "1295c12c-c1d6-41e7-a9c2-471d6311bfc7",
   "metadata": {},
   "outputs": [
    {
     "name": "stdout",
     "output_type": "stream",
     "text": [
      "Model: \"sequential\"\n",
      "_________________________________________________________________\n",
      " Layer (type)                Output Shape              Param #   \n",
      "=================================================================\n",
      " Input_Layer (Conv2D)        (None, 126, 126, 32)      896       \n",
      "                                                                 \n",
      " Pooling_1 (MaxPooling2D)    (None, 63, 63, 32)        0         \n",
      "                                                                 \n",
      " Conv_Layer2 (Conv2D)        (None, 61, 61, 32)        9248      \n",
      "                                                                 \n",
      " Pooling_2 (MaxPooling2D)    (None, 30, 30, 32)        0         \n",
      "                                                                 \n",
      " Conv_Layer3 (Conv2D)        (None, 28, 28, 64)        18496     \n",
      "                                                                 \n",
      " Pooling_3 (MaxPooling2D)    (None, 14, 14, 64)        0         \n",
      "                                                                 \n",
      " Conv_Layer4 (Conv2D)        (None, 12, 12, 64)        36928     \n",
      "                                                                 \n",
      " Pooling_4 (MaxPooling2D)    (None, 6, 6, 64)          0         \n",
      "                                                                 \n",
      " flatten (Flatten)           (None, 2304)              0         \n",
      "                                                                 \n",
      " Dense_1 (Dense)             (None, 128)               295040    \n",
      "                                                                 \n",
      " Dense_2 (Dense)             (None, 64)                8256      \n",
      "                                                                 \n",
      " Output_Layer (Dense)        (None, 30)                1950      \n",
      "                                                                 \n",
      "=================================================================\n",
      "Total params: 370,814\n",
      "Trainable params: 370,814\n",
      "Non-trainable params: 0\n",
      "_________________________________________________________________\n"
     ]
    }
   ],
   "source": [
    "model.summary()"
   ]
  },
  {
   "cell_type": "code",
   "execution_count": 25,
   "id": "2684dc4e-29a9-4e2f-9a9e-e4d83c2b696d",
   "metadata": {},
   "outputs": [],
   "source": [
    "model.compile(\n",
    "    optimizer=\"adam\",\n",
    "    loss=\"categorical_crossentropy\",\n",
    "    metrics=\"accuracy\"\n",
    ")"
   ]
  },
  {
   "cell_type": "code",
   "execution_count": 26,
   "id": "2f0d68c2-bb0e-4392-9b34-64fb2d58c8e5",
   "metadata": {},
   "outputs": [
    {
     "name": "stdout",
     "output_type": "stream",
     "text": [
      "Epoch 1/10\n",
      "41/41 [==============================] - 117s 3s/step - loss: 3.3353 - accuracy: 0.0623\n",
      "Epoch 2/10\n",
      "41/41 [==============================] - 102s 2s/step - loss: 2.4278 - accuracy: 0.2843\n",
      "Epoch 3/10\n",
      "41/41 [==============================] - 89s 2s/step - loss: 1.6140 - accuracy: 0.5055\n",
      "Epoch 4/10\n",
      "41/41 [==============================] - 86s 2s/step - loss: 1.1406 - accuracy: 0.6417\n",
      "Epoch 5/10\n",
      "41/41 [==============================] - 92s 2s/step - loss: 0.8088 - accuracy: 0.7523\n",
      "Epoch 6/10\n",
      "41/41 [==============================] - 84s 2s/step - loss: 0.6380 - accuracy: 0.8022\n",
      "Epoch 7/10\n",
      "41/41 [==============================] - 78s 2s/step - loss: 0.5239 - accuracy: 0.8364\n",
      "Epoch 8/10\n",
      "41/41 [==============================] - 79s 2s/step - loss: 0.4554 - accuracy: 0.8427\n",
      "Epoch 9/10\n",
      "41/41 [==============================] - 76s 2s/step - loss: 0.3977 - accuracy: 0.8653\n",
      "Epoch 10/10\n",
      "41/41 [==============================] - 78s 2s/step - loss: 0.2583 - accuracy: 0.9104\n"
     ]
    }
   ],
   "source": [
    "history = model.fit(\n",
    "    train_images,\n",
    "    epochs = 10\n",
    ")"
   ]
  },
  {
   "cell_type": "code",
   "execution_count": 27,
   "id": "d8242a55",
   "metadata": {},
   "outputs": [
    {
     "data": {
      "image/png": "[encoded data removed]",
      "text/plain": [
       "<Figure size 640x480 with 1 Axes>"
      ]
     },
     "metadata": {},
     "output_type": "display_data"
    }
   ],
   "source": [
    "plt.plot(history.history['accuracy'])\n",
    "plt.title('Model Accuracy')\n",
    "plt.xlabel('Epoch')\n",
    "plt.ylabel('Accuracy')\n",
    "plt.show()"
   ]
  },
  {
   "cell_type": "code",
   "execution_count": 28,
   "id": "35fc079f-41de-48bf-9288-91ce16f76184",
   "metadata": {},
   "outputs": [
    {
     "name": "stdout",
     "output_type": "stream",
     "text": [
      "18/18 [==============================] - 35s 2s/step - loss: 0.7448 - accuracy: 0.7750\n"
     ]
    },
    {
     "data": {
      "text/plain": [
       "[0.7448170781135559, 0.774954617023468]"
      ]
     },
     "execution_count": 28,
     "metadata": {},
     "output_type": "execute_result"
    }
   ],
   "source": [
    "model.evaluate(test_images)"
   ]
  },
  {
   "cell_type": "code",
   "execution_count": 29,
   "id": "8055623b-516f-4844-8f88-20bbdf3b2c7c",
   "metadata": {},
   "outputs": [
    {
     "name": "stdout",
     "output_type": "stream",
     "text": [
      "18/18 [==============================] - 25s 1s/step\n"
     ]
    },
    {
     "data": {
      "text/plain": [
       "[1, 28, 13, 6]"
      ]
     },
     "execution_count": 29,
     "metadata": {},
     "output_type": "execute_result"
    }
   ],
   "source": [
    "prediction_pobabilities = model.predict(test_images)\n",
    "\n",
    "test_predictions = [np.argmax(prob) for prob in prediction_pobabilities]\n",
    "test_predictions[1:5]"
   ]
  },
  {
   "cell_type": "code",
   "execution_count": 32,
   "id": "6b24a551-23ca-46fd-bfc7-96f7fb885b44",
   "metadata": {},
   "outputs": [
    {
     "data": {
      "text/plain": [
       "array([[0, 4, 0, 1, 1, 0, 0, 0, 1, 0, 0, 0, 0, 1, 0, 0, 0, 3, 0, 1, 0, 0,\n",
       "        0, 0, 0, 1, 1, 1, 1, 0],\n",
       "       [1, 3, 1, 1, 4, 0, 0, 2, 2, 1, 1, 1, 0, 5, 1, 2, 1, 1, 1, 2, 1, 1,\n",
       "        1, 0, 0, 1, 1, 2, 5, 0],\n",
       "       [0, 0, 1, 0, 1, 0, 1, 2, 0, 0, 0, 1, 1, 1, 0, 0, 0, 1, 0, 1, 0, 0,\n",
       "        1, 1, 0, 1, 1, 1, 1, 1],\n",
       "       [1, 2, 1, 0, 2, 1, 0, 1, 0, 0, 2, 1, 1, 0, 1, 3, 0, 0, 1, 1, 1, 0,\n",
       "        1, 0, 0, 0, 0, 0, 1, 0],\n",
       "       [2, 1, 0, 0, 0, 0, 1, 0, 2, 0, 0, 3, 1, 2, 3, 0, 1, 0, 1, 1, 0, 1,\n",
       "        1, 1, 1, 0, 0, 2, 1, 0],\n",
       "       [0, 2, 1, 1, 1, 0, 1, 0, 0, 0, 0, 0, 1, 1, 0, 1, 1, 0, 0, 1, 0, 0,\n",
       "        0, 0, 0, 0, 0, 0, 1, 0],\n",
       "       [0, 2, 0, 1, 1, 0, 1, 0, 0, 1, 0, 2, 1, 0, 0, 2, 0, 0, 2, 0, 3, 0,\n",
       "        1, 0, 0, 0, 0, 1, 3, 0],\n",
       "       [0, 2, 0, 3, 1, 0, 1, 0, 3, 1, 2, 0, 3, 0, 1, 0, 0, 1, 1, 2, 1, 1,\n",
       "        2, 0, 0, 0, 1, 0, 0, 1],\n",
       "       [1, 1, 0, 1, 1, 0, 1, 0, 1, 1, 0, 0, 0, 1, 0, 0, 0, 1, 0, 1, 1, 0,\n",
       "        1, 1, 0, 0, 0, 0, 0, 1],\n",
       "       [0, 2, 0, 0, 0, 0, 0, 0, 1, 2, 0, 1, 1, 2, 3, 0, 0, 1, 0, 1, 0, 0,\n",
       "        1, 2, 0, 0, 1, 1, 3, 0],\n",
       "       [0, 0, 1, 0, 0, 1, 1, 0, 0, 1, 0, 0, 0, 0, 0, 0, 0, 1, 1, 0, 0, 0,\n",
       "        1, 0, 0, 1, 0, 0, 2, 1],\n",
       "       [0, 1, 1, 3, 1, 0, 1, 1, 0, 2, 0, 0, 0, 2, 2, 1, 2, 0, 2, 0, 0, 1,\n",
       "        0, 1, 0, 0, 1, 1, 1, 0],\n",
       "       [1, 4, 0, 1, 2, 0, 0, 1, 0, 1, 0, 1, 0, 0, 0, 3, 0, 1, 2, 0, 0, 0,\n",
       "        0, 0, 0, 0, 0, 3, 0, 0],\n",
       "       [0, 0, 2, 0, 1, 0, 1, 0, 1, 0, 0, 0, 1, 1, 3, 3, 1, 0, 1, 1, 1, 0,\n",
       "        1, 1, 1, 0, 1, 0, 4, 1],\n",
       "       [1, 1, 3, 0, 0, 0, 1, 1, 0, 2, 0, 0, 2, 0, 0, 0, 0, 2, 0, 1, 0, 1,\n",
       "        0, 0, 2, 0, 2, 1, 2, 0],\n",
       "       [1, 0, 1, 2, 1, 0, 2, 2, 0, 2, 0, 0, 0, 0, 2, 0, 1, 0, 2, 0, 1, 1,\n",
       "        0, 0, 0, 1, 0, 0, 1, 0],\n",
       "       [0, 1, 1, 1, 2, 1, 0, 0, 1, 0, 2, 0, 1, 1, 0, 0, 1, 2, 0, 1, 2, 1,\n",
       "        1, 2, 0, 2, 0, 0, 0, 0],\n",
       "       [0, 3, 0, 0, 2, 0, 0, 0, 1, 1, 1, 0, 0, 1, 1, 2, 0, 1, 0, 0, 0, 0,\n",
       "        0, 0, 0, 1, 1, 0, 1, 0],\n",
       "       [1, 1, 0, 0, 0, 0, 0, 0, 0, 2, 0, 1, 1, 1, 0, 1, 1, 1, 0, 0, 0, 1,\n",
       "        2, 0, 0, 0, 0, 0, 0, 0],\n",
       "       [1, 1, 0, 0, 3, 0, 0, 1, 0, 1, 0, 0, 1, 3, 2, 1, 0, 0, 0, 0, 0, 1,\n",
       "        0, 0, 0, 0, 1, 0, 1, 0],\n",
       "       [0, 0, 2, 0, 1, 0, 0, 1, 1, 0, 0, 0, 0, 1, 0, 0, 0, 2, 1, 1, 0, 0,\n",
       "        0, 0, 1, 0, 0, 2, 0, 0],\n",
       "       [0, 0, 0, 0, 0, 0, 1, 1, 0, 0, 0, 2, 0, 0, 0, 1, 1, 0, 1, 0, 0, 0,\n",
       "        1, 1, 1, 1, 1, 0, 2, 0],\n",
       "       [0, 0, 0, 3, 1, 0, 1, 0, 1, 1, 0, 0, 0, 0, 2, 0, 0, 0, 0, 1, 0, 0,\n",
       "        1, 2, 0, 0, 0, 2, 0, 0],\n",
       "       [0, 0, 0, 1, 0, 0, 1, 2, 3, 1, 0, 0, 0, 1, 2, 0, 0, 0, 0, 1, 0, 0,\n",
       "        0, 1, 1, 0, 1, 0, 1, 1],\n",
       "       [0, 0, 1, 0, 3, 1, 2, 0, 0, 1, 1, 0, 0, 1, 1, 0, 2, 0, 0, 0, 0, 1,\n",
       "        2, 1, 1, 1, 0, 1, 1, 0],\n",
       "       [0, 0, 0, 2, 0, 0, 2, 0, 0, 0, 0, 0, 0, 2, 2, 0, 1, 0, 0, 0, 1, 1,\n",
       "        0, 1, 0, 0, 1, 0, 2, 0],\n",
       "       [1, 0, 0, 0, 0, 0, 0, 1, 1, 0, 0, 0, 0, 0, 2, 0, 0, 0, 1, 1, 0, 1,\n",
       "        0, 0, 0, 0, 0, 0, 1, 0],\n",
       "       [0, 2, 2, 1, 1, 0, 0, 0, 0, 1, 1, 0, 0, 1, 0, 2, 0, 0, 0, 0, 0, 1,\n",
       "        0, 0, 0, 0, 0, 0, 3, 0],\n",
       "       [0, 2, 1, 0, 2, 0, 2, 0, 0, 1, 0, 0, 3, 1, 2, 0, 0, 0, 0, 1, 1, 0,\n",
       "        1, 0, 0, 0, 0, 0, 0, 0],\n",
       "       [0, 1, 0, 0, 0, 0, 0, 1, 0, 0, 0, 0, 0, 0, 1, 0, 0, 0, 0, 0, 1, 0,\n",
       "        0, 1, 0, 1, 0, 0, 0, 0]], dtype=int64)"
      ]
     },
     "execution_count": 32,
     "metadata": {},
     "output_type": "execute_result"
    }
   ],
   "source": [
    "cm = confusion_matrix(test_images.labels, test_predictions)\n",
    "cm"
   ]
  },
  {
   "cell_type": "code",
   "execution_count": 33,
   "id": "98611ffe-abda-4af8-9f96-235bee72cee5",
   "metadata": {},
   "outputs": [
    {
     "name": "stdout",
     "output_type": "stream",
     "text": [
      "              precision    recall  f1-score   support\n",
      "\n",
      "           0       0.00      0.00      0.00        16\n",
      "           1       0.08      0.07      0.08        42\n",
      "           2       0.05      0.06      0.06        17\n",
      "           3       0.00      0.00      0.00        21\n",
      "           4       0.00      0.00      0.00        25\n",
      "           5       0.00      0.00      0.00        12\n",
      "           6       0.05      0.05      0.05        21\n",
      "           7       0.00      0.00      0.00        27\n",
      "           8       0.05      0.07      0.06        14\n",
      "           9       0.09      0.09      0.09        22\n",
      "          10       0.00      0.00      0.00        11\n",
      "          11       0.00      0.00      0.00        24\n",
      "          12       0.00      0.00      0.00        20\n",
      "          13       0.03      0.04      0.04        26\n",
      "          14       0.00      0.00      0.00        22\n",
      "          15       0.00      0.00      0.00        20\n",
      "          16       0.08      0.04      0.06        23\n",
      "          17       0.06      0.06      0.06        16\n",
      "          18       0.00      0.00      0.00        13\n",
      "          19       0.00      0.00      0.00        17\n",
      "          20       0.00      0.00      0.00        13\n",
      "          21       0.00      0.00      0.00        14\n",
      "          22       0.05      0.07      0.06        15\n",
      "          23       0.06      0.06      0.06        17\n",
      "          24       0.12      0.05      0.07        21\n",
      "          25       0.00      0.00      0.00        15\n",
      "          26       0.00      0.00      0.00         9\n",
      "          27       0.00      0.00      0.00        15\n",
      "          28       0.00      0.00      0.00        17\n",
      "          29       0.00      0.00      0.00         6\n",
      "\n",
      "    accuracy                           0.03       551\n",
      "   macro avg       0.02      0.02      0.02       551\n",
      "weighted avg       0.03      0.03      0.03       551\n",
      "\n"
     ]
    }
   ],
   "source": [
    "# Print classification report - important for evaluation of the model\n",
    "print(classification_report(test_images.labels, test_predictions))"
   ]
  },
  {
   "cell_type": "code",
   "execution_count": 34,
   "id": "8bf969d2-d7fa-40dd-8cc2-7a21d865cdd8",
   "metadata": {},
   "outputs": [
    {
     "data": {
      "image/png": "[encoded data removed]",
      "text/plain": [
       "<Figure size 640x480 with 1 Axes>"
      ]
     },
     "metadata": {},
     "output_type": "display_data"
    }
   ],
   "source": [
    "\n",
    "\n",
    "plt.plot(history.history['accuracy'])\n",
    "#plt.plot(history.history['val_accuracy'])\n",
    "plt.title('Accuracy Graph')\n",
    "plt.xlabel('Epoch')\n",
    "plt.ylabel('Accuracy')\n",
    "plt.legend(['Train', 'Validation'])\n",
    "plt.show()"
   ]
  },
  {
   "cell_type": "code",
   "execution_count": 41,
   "id": "cde070a0",
   "metadata": {},
   "outputs": [
    {
     "data": {
      "image/png": "[encoded data removed]",
      "text/plain": [
       "<Figure size 640x480 with 1 Axes>"
      ]
     },
     "metadata": {},
     "output_type": "display_data"
    }
   ],
   "source": [
    "import matplotlib.pyplot as plt\n",
    "\n",
    "# Assuming you have already trained your model and stored the history variable.\n",
    "\n",
    "train_accuracy = history.history['accuracy']\n",
    "final_accuracy = train_accuracy[-1]  # Getting the final accuracy value\n",
    "epochs = range(1, len(train_accuracy) + 1)\n",
    "\n",
    "plt.bar(epochs[-1], final_accuracy, color='blue')  # Displaying only the last epoch as a bar\n",
    "plt.text(epochs[-1], final_accuracy, f'{final_accuracy:.2f}', ha='center', va='bottom', color='black', fontweight='bold')\n",
    "plt.title('Model Accuracy Using CNN')\n",
    "plt.xlabel('Epoch')\n",
    "plt.ylabel('Accuracy')\n",
    "plt.show()\n"
   ]
  },
  {
   "cell_type": "code",
   "execution_count": null,
   "id": "3b417fdc",
   "metadata": {},
   "outputs": [],
   "source": []
  }
 ],
 "metadata": {
  "kernelspec": {
   "display_name": "Python 3 (ipykernel)",
   "language": "python",
   "name": "python3"
  },
  "language_info": {
   "codemirror_mode": {
    "name": "ipython",
    "version": 3
   },
   "file_extension": ".py",
   "mimetype": "text/x-python",
   "name": "python",
   "nbconvert_exporter": "python",
   "pygments_lexer": "ipython3",
   "version": "3.9.13"
  }
 },
 "nbformat": 4,
 "nbformat_minor": 5
}
